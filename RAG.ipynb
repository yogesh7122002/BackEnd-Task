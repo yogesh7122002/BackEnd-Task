{
  "nbformat": 4,
  "nbformat_minor": 0,
  "metadata": {
    "colab": {
      "provenance": [],
      "authorship_tag": "ABX9TyP7t7ZTN5XAaOH9hXpLkpc7",
      "include_colab_link": true
    },
    "kernelspec": {
      "name": "python3",
      "display_name": "Python 3"
    },
    "language_info": {
      "name": "python"
    }
  },
  "cells": [
    {
      "cell_type": "markdown",
      "metadata": {
        "id": "view-in-github",
        "colab_type": "text"
      },
      "source": [
        "<a href=\"https://colab.research.google.com/github/yogesh7122002/BackEnd-Task/blob/main/RAG.ipynb\" target=\"_parent\"><img src=\"https://colab.research.google.com/assets/colab-badge.svg\" alt=\"Open In Colab\"/></a>"
      ]
    },
    {
      "cell_type": "code",
      "execution_count": 7,
      "metadata": {
        "colab": {
          "base_uri": "https://localhost:8080/"
        },
        "collapsed": true,
        "id": "DB_K7iSTpfVb",
        "outputId": "2b693d28-cb05-403b-d0e3-e980810aa8d9"
      },
      "outputs": [
        {
          "output_type": "stream",
          "name": "stdout",
          "text": [
            "Requirement already satisfied: langchain in /usr/local/lib/python3.12/dist-packages (0.3.27)\n",
            "Requirement already satisfied: langchain-openai in /usr/local/lib/python3.12/dist-packages (0.3.34)\n",
            "Requirement already satisfied: langchain-community in /usr/local/lib/python3.12/dist-packages (0.3.30)\n",
            "Requirement already satisfied: chromadb in /usr/local/lib/python3.12/dist-packages (1.1.0)\n",
            "Requirement already satisfied: langchain-core<1.0.0,>=0.3.72 in /usr/local/lib/python3.12/dist-packages (from langchain) (0.3.77)\n",
            "Requirement already satisfied: langchain-text-splitters<1.0.0,>=0.3.9 in /usr/local/lib/python3.12/dist-packages (from langchain) (0.3.11)\n",
            "Requirement already satisfied: langsmith>=0.1.17 in /usr/local/lib/python3.12/dist-packages (from langchain) (0.4.31)\n",
            "Requirement already satisfied: pydantic<3.0.0,>=2.7.4 in /usr/local/lib/python3.12/dist-packages (from langchain) (2.11.9)\n",
            "Requirement already satisfied: SQLAlchemy<3,>=1.4 in /usr/local/lib/python3.12/dist-packages (from langchain) (2.0.43)\n",
            "Requirement already satisfied: requests<3,>=2 in /usr/local/lib/python3.12/dist-packages (from langchain) (2.32.5)\n",
            "Requirement already satisfied: PyYAML>=5.3 in /usr/local/lib/python3.12/dist-packages (from langchain) (6.0.3)\n",
            "Requirement already satisfied: openai<3.0.0,>=1.104.2 in /usr/local/lib/python3.12/dist-packages (from langchain-openai) (1.109.1)\n",
            "Requirement already satisfied: tiktoken<1.0.0,>=0.7.0 in /usr/local/lib/python3.12/dist-packages (from langchain-openai) (0.11.0)\n",
            "Requirement already satisfied: aiohttp<4.0.0,>=3.8.3 in /usr/local/lib/python3.12/dist-packages (from langchain-community) (3.12.15)\n",
            "Requirement already satisfied: tenacity!=8.4.0,<10.0.0,>=8.1.0 in /usr/local/lib/python3.12/dist-packages (from langchain-community) (8.5.0)\n",
            "Requirement already satisfied: dataclasses-json<0.7.0,>=0.6.7 in /usr/local/lib/python3.12/dist-packages (from langchain-community) (0.6.7)\n",
            "Requirement already satisfied: pydantic-settings<3.0.0,>=2.10.1 in /usr/local/lib/python3.12/dist-packages (from langchain-community) (2.11.0)\n",
            "Requirement already satisfied: httpx-sse<1.0.0,>=0.4.0 in /usr/local/lib/python3.12/dist-packages (from langchain-community) (0.4.1)\n",
            "Requirement already satisfied: numpy>=1.26.2 in /usr/local/lib/python3.12/dist-packages (from langchain-community) (2.0.2)\n",
            "Requirement already satisfied: build>=1.0.3 in /usr/local/lib/python3.12/dist-packages (from chromadb) (1.3.0)\n",
            "Requirement already satisfied: pybase64>=1.4.1 in /usr/local/lib/python3.12/dist-packages (from chromadb) (1.4.2)\n",
            "Requirement already satisfied: uvicorn>=0.18.3 in /usr/local/lib/python3.12/dist-packages (from uvicorn[standard]>=0.18.3->chromadb) (0.37.0)\n",
            "Requirement already satisfied: posthog<6.0.0,>=2.4.0 in /usr/local/lib/python3.12/dist-packages (from chromadb) (5.4.0)\n",
            "Requirement already satisfied: typing-extensions>=4.5.0 in /usr/local/lib/python3.12/dist-packages (from chromadb) (4.15.0)\n",
            "Requirement already satisfied: onnxruntime>=1.14.1 in /usr/local/lib/python3.12/dist-packages (from chromadb) (1.23.0)\n",
            "Requirement already satisfied: opentelemetry-api>=1.2.0 in /usr/local/lib/python3.12/dist-packages (from chromadb) (1.37.0)\n",
            "Requirement already satisfied: opentelemetry-exporter-otlp-proto-grpc>=1.2.0 in /usr/local/lib/python3.12/dist-packages (from chromadb) (1.37.0)\n",
            "Requirement already satisfied: opentelemetry-sdk>=1.2.0 in /usr/local/lib/python3.12/dist-packages (from chromadb) (1.37.0)\n",
            "Requirement already satisfied: tokenizers>=0.13.2 in /usr/local/lib/python3.12/dist-packages (from chromadb) (0.22.1)\n",
            "Requirement already satisfied: pypika>=0.48.9 in /usr/local/lib/python3.12/dist-packages (from chromadb) (0.48.9)\n",
            "Requirement already satisfied: tqdm>=4.65.0 in /usr/local/lib/python3.12/dist-packages (from chromadb) (4.67.1)\n",
            "Requirement already satisfied: overrides>=7.3.1 in /usr/local/lib/python3.12/dist-packages (from chromadb) (7.7.0)\n",
            "Requirement already satisfied: importlib-resources in /usr/local/lib/python3.12/dist-packages (from chromadb) (6.5.2)\n",
            "Requirement already satisfied: grpcio>=1.58.0 in /usr/local/lib/python3.12/dist-packages (from chromadb) (1.75.1)\n",
            "Requirement already satisfied: bcrypt>=4.0.1 in /usr/local/lib/python3.12/dist-packages (from chromadb) (5.0.0)\n",
            "Requirement already satisfied: typer>=0.9.0 in /usr/local/lib/python3.12/dist-packages (from chromadb) (0.19.2)\n",
            "Requirement already satisfied: kubernetes>=28.1.0 in /usr/local/lib/python3.12/dist-packages (from chromadb) (34.1.0)\n",
            "Requirement already satisfied: mmh3>=4.0.1 in /usr/local/lib/python3.12/dist-packages (from chromadb) (5.2.0)\n",
            "Requirement already satisfied: orjson>=3.9.12 in /usr/local/lib/python3.12/dist-packages (from chromadb) (3.11.3)\n",
            "Requirement already satisfied: httpx>=0.27.0 in /usr/local/lib/python3.12/dist-packages (from chromadb) (0.28.1)\n",
            "Requirement already satisfied: rich>=10.11.0 in /usr/local/lib/python3.12/dist-packages (from chromadb) (13.9.4)\n",
            "Requirement already satisfied: jsonschema>=4.19.0 in /usr/local/lib/python3.12/dist-packages (from chromadb) (4.25.1)\n",
            "Requirement already satisfied: aiohappyeyeballs>=2.5.0 in /usr/local/lib/python3.12/dist-packages (from aiohttp<4.0.0,>=3.8.3->langchain-community) (2.6.1)\n",
            "Requirement already satisfied: aiosignal>=1.4.0 in /usr/local/lib/python3.12/dist-packages (from aiohttp<4.0.0,>=3.8.3->langchain-community) (1.4.0)\n",
            "Requirement already satisfied: attrs>=17.3.0 in /usr/local/lib/python3.12/dist-packages (from aiohttp<4.0.0,>=3.8.3->langchain-community) (25.3.0)\n",
            "Requirement already satisfied: frozenlist>=1.1.1 in /usr/local/lib/python3.12/dist-packages (from aiohttp<4.0.0,>=3.8.3->langchain-community) (1.7.0)\n",
            "Requirement already satisfied: multidict<7.0,>=4.5 in /usr/local/lib/python3.12/dist-packages (from aiohttp<4.0.0,>=3.8.3->langchain-community) (6.6.4)\n",
            "Requirement already satisfied: propcache>=0.2.0 in /usr/local/lib/python3.12/dist-packages (from aiohttp<4.0.0,>=3.8.3->langchain-community) (0.3.2)\n",
            "Requirement already satisfied: yarl<2.0,>=1.17.0 in /usr/local/lib/python3.12/dist-packages (from aiohttp<4.0.0,>=3.8.3->langchain-community) (1.20.1)\n",
            "Requirement already satisfied: packaging>=19.1 in /usr/local/lib/python3.12/dist-packages (from build>=1.0.3->chromadb) (25.0)\n",
            "Requirement already satisfied: pyproject_hooks in /usr/local/lib/python3.12/dist-packages (from build>=1.0.3->chromadb) (1.2.0)\n",
            "Requirement already satisfied: marshmallow<4.0.0,>=3.18.0 in /usr/local/lib/python3.12/dist-packages (from dataclasses-json<0.7.0,>=0.6.7->langchain-community) (3.26.1)\n",
            "Requirement already satisfied: typing-inspect<1,>=0.4.0 in /usr/local/lib/python3.12/dist-packages (from dataclasses-json<0.7.0,>=0.6.7->langchain-community) (0.9.0)\n",
            "Requirement already satisfied: anyio in /usr/local/lib/python3.12/dist-packages (from httpx>=0.27.0->chromadb) (4.11.0)\n",
            "Requirement already satisfied: certifi in /usr/local/lib/python3.12/dist-packages (from httpx>=0.27.0->chromadb) (2025.8.3)\n",
            "Requirement already satisfied: httpcore==1.* in /usr/local/lib/python3.12/dist-packages (from httpx>=0.27.0->chromadb) (1.0.9)\n",
            "Requirement already satisfied: idna in /usr/local/lib/python3.12/dist-packages (from httpx>=0.27.0->chromadb) (3.10)\n",
            "Requirement already satisfied: h11>=0.16 in /usr/local/lib/python3.12/dist-packages (from httpcore==1.*->httpx>=0.27.0->chromadb) (0.16.0)\n",
            "Requirement already satisfied: jsonschema-specifications>=2023.03.6 in /usr/local/lib/python3.12/dist-packages (from jsonschema>=4.19.0->chromadb) (2025.9.1)\n",
            "Requirement already satisfied: referencing>=0.28.4 in /usr/local/lib/python3.12/dist-packages (from jsonschema>=4.19.0->chromadb) (0.36.2)\n",
            "Requirement already satisfied: rpds-py>=0.7.1 in /usr/local/lib/python3.12/dist-packages (from jsonschema>=4.19.0->chromadb) (0.27.1)\n",
            "Requirement already satisfied: six>=1.9.0 in /usr/local/lib/python3.12/dist-packages (from kubernetes>=28.1.0->chromadb) (1.17.0)\n",
            "Requirement already satisfied: python-dateutil>=2.5.3 in /usr/local/lib/python3.12/dist-packages (from kubernetes>=28.1.0->chromadb) (2.9.0.post0)\n",
            "Requirement already satisfied: google-auth>=1.0.1 in /usr/local/lib/python3.12/dist-packages (from kubernetes>=28.1.0->chromadb) (2.38.0)\n",
            "Requirement already satisfied: websocket-client!=0.40.0,!=0.41.*,!=0.42.*,>=0.32.0 in /usr/local/lib/python3.12/dist-packages (from kubernetes>=28.1.0->chromadb) (1.8.0)\n",
            "Requirement already satisfied: requests-oauthlib in /usr/local/lib/python3.12/dist-packages (from kubernetes>=28.1.0->chromadb) (2.0.0)\n",
            "Requirement already satisfied: urllib3<2.4.0,>=1.24.2 in /usr/local/lib/python3.12/dist-packages (from kubernetes>=28.1.0->chromadb) (2.3.0)\n",
            "Requirement already satisfied: durationpy>=0.7 in /usr/local/lib/python3.12/dist-packages (from kubernetes>=28.1.0->chromadb) (0.10)\n",
            "Requirement already satisfied: jsonpatch<2.0.0,>=1.33.0 in /usr/local/lib/python3.12/dist-packages (from langchain-core<1.0.0,>=0.3.72->langchain) (1.33)\n",
            "Requirement already satisfied: requests-toolbelt>=1.0.0 in /usr/local/lib/python3.12/dist-packages (from langsmith>=0.1.17->langchain) (1.0.0)\n",
            "Requirement already satisfied: zstandard>=0.23.0 in /usr/local/lib/python3.12/dist-packages (from langsmith>=0.1.17->langchain) (0.25.0)\n",
            "Requirement already satisfied: coloredlogs in /usr/local/lib/python3.12/dist-packages (from onnxruntime>=1.14.1->chromadb) (15.0.1)\n",
            "Requirement already satisfied: flatbuffers in /usr/local/lib/python3.12/dist-packages (from onnxruntime>=1.14.1->chromadb) (25.9.23)\n",
            "Requirement already satisfied: protobuf in /usr/local/lib/python3.12/dist-packages (from onnxruntime>=1.14.1->chromadb) (5.29.5)\n",
            "Requirement already satisfied: sympy in /usr/local/lib/python3.12/dist-packages (from onnxruntime>=1.14.1->chromadb) (1.13.3)\n",
            "Requirement already satisfied: distro<2,>=1.7.0 in /usr/local/lib/python3.12/dist-packages (from openai<3.0.0,>=1.104.2->langchain-openai) (1.9.0)\n",
            "Requirement already satisfied: jiter<1,>=0.4.0 in /usr/local/lib/python3.12/dist-packages (from openai<3.0.0,>=1.104.2->langchain-openai) (0.11.0)\n",
            "Requirement already satisfied: sniffio in /usr/local/lib/python3.12/dist-packages (from openai<3.0.0,>=1.104.2->langchain-openai) (1.3.1)\n",
            "Requirement already satisfied: importlib-metadata<8.8.0,>=6.0 in /usr/local/lib/python3.12/dist-packages (from opentelemetry-api>=1.2.0->chromadb) (8.7.0)\n",
            "Requirement already satisfied: googleapis-common-protos~=1.57 in /usr/local/lib/python3.12/dist-packages (from opentelemetry-exporter-otlp-proto-grpc>=1.2.0->chromadb) (1.70.0)\n",
            "Requirement already satisfied: opentelemetry-exporter-otlp-proto-common==1.37.0 in /usr/local/lib/python3.12/dist-packages (from opentelemetry-exporter-otlp-proto-grpc>=1.2.0->chromadb) (1.37.0)\n",
            "Requirement already satisfied: opentelemetry-proto==1.37.0 in /usr/local/lib/python3.12/dist-packages (from opentelemetry-exporter-otlp-proto-grpc>=1.2.0->chromadb) (1.37.0)\n",
            "Requirement already satisfied: opentelemetry-semantic-conventions==0.58b0 in /usr/local/lib/python3.12/dist-packages (from opentelemetry-sdk>=1.2.0->chromadb) (0.58b0)\n",
            "Requirement already satisfied: backoff>=1.10.0 in /usr/local/lib/python3.12/dist-packages (from posthog<6.0.0,>=2.4.0->chromadb) (2.2.1)\n",
            "Requirement already satisfied: annotated-types>=0.6.0 in /usr/local/lib/python3.12/dist-packages (from pydantic<3.0.0,>=2.7.4->langchain) (0.7.0)\n",
            "Requirement already satisfied: pydantic-core==2.33.2 in /usr/local/lib/python3.12/dist-packages (from pydantic<3.0.0,>=2.7.4->langchain) (2.33.2)\n",
            "Requirement already satisfied: typing-inspection>=0.4.0 in /usr/local/lib/python3.12/dist-packages (from pydantic<3.0.0,>=2.7.4->langchain) (0.4.2)\n",
            "Requirement already satisfied: python-dotenv>=0.21.0 in /usr/local/lib/python3.12/dist-packages (from pydantic-settings<3.0.0,>=2.10.1->langchain-community) (1.1.1)\n",
            "Requirement already satisfied: charset_normalizer<4,>=2 in /usr/local/lib/python3.12/dist-packages (from requests<3,>=2->langchain) (3.4.3)\n",
            "Requirement already satisfied: markdown-it-py>=2.2.0 in /usr/local/lib/python3.12/dist-packages (from rich>=10.11.0->chromadb) (4.0.0)\n",
            "Requirement already satisfied: pygments<3.0.0,>=2.13.0 in /usr/local/lib/python3.12/dist-packages (from rich>=10.11.0->chromadb) (2.19.2)\n",
            "Requirement already satisfied: greenlet>=1 in /usr/local/lib/python3.12/dist-packages (from SQLAlchemy<3,>=1.4->langchain) (3.2.4)\n",
            "Requirement already satisfied: regex>=2022.1.18 in /usr/local/lib/python3.12/dist-packages (from tiktoken<1.0.0,>=0.7.0->langchain-openai) (2024.11.6)\n",
            "Requirement already satisfied: huggingface-hub<2.0,>=0.16.4 in /usr/local/lib/python3.12/dist-packages (from tokenizers>=0.13.2->chromadb) (0.35.3)\n",
            "Requirement already satisfied: click>=8.0.0 in /usr/local/lib/python3.12/dist-packages (from typer>=0.9.0->chromadb) (8.3.0)\n",
            "Requirement already satisfied: shellingham>=1.3.0 in /usr/local/lib/python3.12/dist-packages (from typer>=0.9.0->chromadb) (1.5.4)\n",
            "Requirement already satisfied: httptools>=0.6.3 in /usr/local/lib/python3.12/dist-packages (from uvicorn[standard]>=0.18.3->chromadb) (0.6.4)\n",
            "Requirement already satisfied: uvloop>=0.15.1 in /usr/local/lib/python3.12/dist-packages (from uvicorn[standard]>=0.18.3->chromadb) (0.21.0)\n",
            "Requirement already satisfied: watchfiles>=0.13 in /usr/local/lib/python3.12/dist-packages (from uvicorn[standard]>=0.18.3->chromadb) (1.1.0)\n",
            "Requirement already satisfied: websockets>=10.4 in /usr/local/lib/python3.12/dist-packages (from uvicorn[standard]>=0.18.3->chromadb) (15.0.1)\n",
            "Requirement already satisfied: cachetools<6.0,>=2.0.0 in /usr/local/lib/python3.12/dist-packages (from google-auth>=1.0.1->kubernetes>=28.1.0->chromadb) (5.5.2)\n",
            "Requirement already satisfied: pyasn1-modules>=0.2.1 in /usr/local/lib/python3.12/dist-packages (from google-auth>=1.0.1->kubernetes>=28.1.0->chromadb) (0.4.2)\n",
            "Requirement already satisfied: rsa<5,>=3.1.4 in /usr/local/lib/python3.12/dist-packages (from google-auth>=1.0.1->kubernetes>=28.1.0->chromadb) (4.9.1)\n",
            "Requirement already satisfied: filelock in /usr/local/lib/python3.12/dist-packages (from huggingface-hub<2.0,>=0.16.4->tokenizers>=0.13.2->chromadb) (3.19.1)\n",
            "Requirement already satisfied: fsspec>=2023.5.0 in /usr/local/lib/python3.12/dist-packages (from huggingface-hub<2.0,>=0.16.4->tokenizers>=0.13.2->chromadb) (2025.3.0)\n",
            "Requirement already satisfied: hf-xet<2.0.0,>=1.1.3 in /usr/local/lib/python3.12/dist-packages (from huggingface-hub<2.0,>=0.16.4->tokenizers>=0.13.2->chromadb) (1.1.10)\n",
            "Requirement already satisfied: zipp>=3.20 in /usr/local/lib/python3.12/dist-packages (from importlib-metadata<8.8.0,>=6.0->opentelemetry-api>=1.2.0->chromadb) (3.23.0)\n",
            "Requirement already satisfied: jsonpointer>=1.9 in /usr/local/lib/python3.12/dist-packages (from jsonpatch<2.0.0,>=1.33.0->langchain-core<1.0.0,>=0.3.72->langchain) (3.0.0)\n",
            "Requirement already satisfied: mdurl~=0.1 in /usr/local/lib/python3.12/dist-packages (from markdown-it-py>=2.2.0->rich>=10.11.0->chromadb) (0.1.2)\n",
            "Requirement already satisfied: mypy-extensions>=0.3.0 in /usr/local/lib/python3.12/dist-packages (from typing-inspect<1,>=0.4.0->dataclasses-json<0.7.0,>=0.6.7->langchain-community) (1.1.0)\n",
            "Requirement already satisfied: humanfriendly>=9.1 in /usr/local/lib/python3.12/dist-packages (from coloredlogs->onnxruntime>=1.14.1->chromadb) (10.0)\n",
            "Requirement already satisfied: oauthlib>=3.0.0 in /usr/local/lib/python3.12/dist-packages (from requests-oauthlib->kubernetes>=28.1.0->chromadb) (3.3.1)\n",
            "Requirement already satisfied: mpmath<1.4,>=1.1.0 in /usr/local/lib/python3.12/dist-packages (from sympy->onnxruntime>=1.14.1->chromadb) (1.3.0)\n",
            "Requirement already satisfied: pyasn1<0.7.0,>=0.6.1 in /usr/local/lib/python3.12/dist-packages (from pyasn1-modules>=0.2.1->google-auth>=1.0.1->kubernetes>=28.1.0->chromadb) (0.6.1)\n"
          ]
        }
      ],
      "source": [
        "# @title\n",
        "!pip install langchain langchain-openai langchain-community chromadb"
      ]
    },
    {
      "cell_type": "code",
      "source": [
        "from google.colab import userdata"
      ],
      "metadata": {
        "id": "Fzo3tj3GrB71"
      },
      "execution_count": 8,
      "outputs": []
    },
    {
      "cell_type": "code",
      "source": [
        "import  os\n",
        "OPENAI_API_KEY = userdata.get('OPENAI_API')\n",
        "GEMINI_API_KEY = userdata.get('GEMINI_API_KEY')\n",
        "os.environ[\"OPENAI_API_KEY\"] = OPENAI_API_KEY\n"
      ],
      "metadata": {
        "id": "i40GMLJWrkc3"
      },
      "execution_count": 9,
      "outputs": []
    },
    {
      "cell_type": "code",
      "source": [
        "import re\n",
        "\n",
        "def clean_data( raw_text: str):\n",
        "    try:\n",
        "        text = raw_text.encode('latin1').decode('utf-8')\n",
        "    except Exception:\n",
        "        text = raw_text\n",
        "    #Remove unwanted Unicode symbols like \\uf058\n",
        "    text = re.sub(r'[\\uE000-\\uF8FF]', '', text)\n",
        "\n",
        "    # Remove unicode escapes like \\u00a0\n",
        "    # text = re.sub(r'\\\\u[0-9a-fA-F]{4}', ' ', text)\n",
        "\n",
        "    # Remove multiple spaces/newlines\n",
        "    text = re.sub(r'\\s+', ' ', text)\n",
        "\n",
        "    # Strip unwanted control characters\n",
        "\n",
        "    text = re.sub(r'Home|Products|Pricing|About|Contact|','',text,flags=re.IGNORECASE)\n",
        "    text = text[:-336]\n",
        "    text = text.strip()\n",
        "    return text\n"
      ],
      "metadata": {
        "id": "9nC5-c42Aw8_"
      },
      "execution_count": 10,
      "outputs": []
    },
    {
      "cell_type": "markdown",
      "source": [],
      "metadata": {
        "id": "aW8F5_qc4C5K"
      }
    },
    {
      "cell_type": "code",
      "source": [
        "from langchain_community.document_loaders import WebBaseLoader\n",
        "page_urls = [\"https://datadios.ai/datadiff/\",\"https://datadios.ai/data-quality-dashboard/\"] #,\n",
        "loader = WebBaseLoader(web_paths=page_urls)\n",
        "# docs = []\n",
        "# async for doc in loader.alazy_load():\n",
        "#   docs.append(doc)\n",
        "docs = loader.load()\n",
        "# print(docs)\n",
        "# data = []\n",
        "# for doc in docs:\n",
        "#   data.append(clean_data(doc.page_content))\n",
        "  # print(doc.page_content)\n",
        "# data = clean_data(docs)"
      ],
      "metadata": {
        "collapsed": true,
        "id": "3gPRNEEU4DNN"
      },
      "execution_count": 11,
      "outputs": []
    },
    {
      "cell_type": "code",
      "source": [
        "# data"
      ],
      "metadata": {
        "collapsed": true,
        "id": "q6NxW0nMAuU8"
      },
      "execution_count": 12,
      "outputs": []
    },
    {
      "cell_type": "code",
      "source": [
        "from langchain.text_splitter import RecursiveCharacterTextSplitter\n",
        "text_splitter = RecursiveCharacterTextSplitter(\n",
        "    chunk_size=1000,\n",
        "    chunk_overlap = 200\n",
        ")\n",
        "splits = text_splitter.split_documents(docs)\n",
        "splits"
      ],
      "metadata": {
        "colab": {
          "base_uri": "https://localhost:8080/"
        },
        "collapsed": true,
        "id": "ceI_MEHX4FMR",
        "outputId": "27389597-0931-4f4c-acaf-f6bcf3c16866"
      },
      "execution_count": 13,
      "outputs": [
        {
          "output_type": "execute_result",
          "data": {
            "text/plain": [
              "[Document(metadata={'source': 'https://datadios.ai/datadiff/', 'title': 'datadiff | DataDios', 'language': 'en-US'}, page_content='datadiff | DataDios\\n\\n\\n\\n\\n\\n\\n\\n\\n\\n\\n\\n\\n\\n\\n\\n\\n\\n\\n\\n\\n\\n\\n\\n\\n\\n\\n\\n\\n\\n\\n\\n\\n\\n\\n\\n\\n\\n\\n\\n\\n\\n\\n\\n\\n\\n\\n\\n\\nHomeProducts\\n\\nMeta VisionAI-StudioData ExplorerWorkload Analyzer\\r\\nData Quality DashboardUniversal Semantic SearchSmartDiffMetadata Synchronization\\nPricingAboutBlogsContact \\n\\n\\nSelect Page\\n\\n\\n  \\n \\n \\n\\n\\n\\n\\n\\n\\n\\n\\n\\n\\nSmartDiff\\n\\n\\n\\n\\n\\nDataDios SmartDiff ensures an easy, efficient, and secure way to validate migrated data across private and public cloud platforms. DataDios SmartDiff is built on Root Cause Analysis, Clustering and Data Transformation architecture enables automated Data Validation Post Migrations, Cause analysis and revealing the patterns\\n\\n\\n\\n\\n\\n\\n\\n\\n\\n\\n\\n\\n\\n\\n\\nSingle Dashboard\\n\\n\\n\\n\\n\\nWe provide a single dashboard to perform data diff, metadata diff and products diff irrespective of:'),\n",
              " Document(metadata={'source': 'https://datadios.ai/datadiff/', 'title': 'datadiff | DataDios', 'language': 'en-US'}, page_content='Single Dashboard\\n\\n\\n\\n\\n\\nWe provide a single dashboard to perform data diff, metadata diff and products diff irrespective of:\\n\\nSource being on cloud or on-premise\\nSQL or No-SQL databases\\nFile formats(xml, json, parquet, csv, datasets, hashed file and others)\\nServices and Products like IGC, IBM Knowledge Catalog, MDM, DataStage (Datasets/Hashed Files), Collibra and others\\nCloud storages like AWS S3, Google Big bucket, Microsoft Azure storage, IBM storage and others\\nIBM OEM Partners MongoDB, EDB, Singlestore, Datastax and Cloudera\\n\\nDataDios SmartDiff quickly and easily validates data and identifies issues and patterns for various data sources. With a low-cost, easy to use, and installed anywhere, you can complete your migration projects on time and\\xa0 under budget.\\n\\n\\n\\n\\n\\n\\n\\n\\n\\n\\n\\nBenefits\\n\\n\\n\\n\\n\\n\\n\\uf058\\n\\nEasy-to-use, wizard-like experience for post migration data validation with a simple and intuitive graphical user interface (GUI).\\n\\n\\n\\n\\n\\n\\n\\uf058'),\n",
              " Document(metadata={'source': 'https://datadios.ai/datadiff/', 'title': 'datadiff | DataDios', 'language': 'en-US'}, page_content='Benefits\\n\\n\\n\\n\\n\\n\\n\\uf058\\n\\nEasy-to-use, wizard-like experience for post migration data validation with a simple and intuitive graphical user interface (GUI).\\n\\n\\n\\n\\n\\n\\n\\uf058\\n\\nUnderstanding the data issues pattern using clustering mechanisms.\\n\\n\\n\\n\\n\\n\\n\\n\\n\\uf058\\n\\nVarious data sources and files for validation can be seamlessly connected\\n\\n\\n\\n\\n\\n\\n\\uf058\\n\\nStreamline data migration- Root cause Analysis, Clustering and Data Transformation architecture ensures one stop solution to find and fix the data problem.\\n\\n\\n\\n\\n\\n\\n\\n\\n\\uf058\\n\\nFocused validation using metadata filtering to speed up the entire data migration process.\\n\\n\\n\\n\\n\\n\\n\\uf058\\n\\nIncrease flexibility by performing Data Transformation rules on data and filtering on metadata.\\n\\n\\n\\n\\n\\n\\n\\n\\n\\uf058\\n\\nExperience the industry’s highest rate of successful data validator tool.\\n\\n\\n\\n\\n\\n\\n\\uf058\\n\\nRun multiple jobs simultaneously to expedite migration times.\\n\\n\\n\\n\\n\\n\\n\\n\\n\\uf058\\n\\nAccelerate large and complex migrated data validation using SmartDiff.\\n\\n\\n\\n\\n\\n\\n\\n\\n\\n\\nFeatures\\n\\n\\n\\n\\n\\n\\n\\uf058'),\n",
              " Document(metadata={'source': 'https://datadios.ai/datadiff/', 'title': 'datadiff | DataDios', 'language': 'en-US'}, page_content='\\uf058\\n\\nRun multiple jobs simultaneously to expedite migration times.\\n\\n\\n\\n\\n\\n\\n\\n\\n\\uf058\\n\\nAccelerate large and complex migrated data validation using SmartDiff.\\n\\n\\n\\n\\n\\n\\n\\n\\n\\n\\nFeatures\\n\\n\\n\\n\\n\\n\\n\\uf058\\n\\nValidate, Cause Analysis, Identify Pattern\\nDataDios SmartDiff helps address the significant concerns of Organizations and IT professionals like Data Mess, Data Automation and Data Validation and detect the cause or patterns of invalid data post migration.\\nEngaging expensive migration tools to migrate data between Data Sources doesn’t always tackle these concerns and often results in failed jobs, missed deadlines, and exceeded budgets.\\n\\n\\n\\n\\n\\n\\n\\uf058'),\n",
              " Document(metadata={'source': 'https://datadios.ai/datadiff/', 'title': 'datadiff | DataDios', 'language': 'en-US'}, page_content='\\uf058\\n\\nEnsure Flexible, Multi-Platform Data Validation\\nDataDios SmartDiff provides a balanced, multi-cloud strategy that encompasses a blend of private, public, and hybrid cloud environments to solve traditional problems. It provides an easy, efficient, and secure way to validate migrated data across private and public cloud platforms. Built on Root cause Analysis, Clustering and Data Transformation architecture, DataDios SmartDiff enables automated Data Validation Post Migrations, Cause analysis and revealing the patterns. DataDios SmartDiff allows application of data Transformation rule on data and eliminates the need to learn and pay for multiple standalone tools.\\n\\n\\n\\n\\n\\n\\n\\n\\n\\uf058'),\n",
              " Document(metadata={'source': 'https://datadios.ai/datadiff/', 'title': 'datadiff | DataDios', 'language': 'en-US'}, page_content='\\uf058\\n\\nCost Efficient\\nDataDios SmartDiff promptly validates data and identifies issue patterns for various data sources, which is low-cost, easy-to-use, and anywhere installed. DataDios SmartDiff completes migration projects within the budget. It automatically and simultaneously migrates data from one Data Source to another Data Source, avoiding installation of various expensive standalone tools.\\n\\n\\n\\n\\n\\n\\n\\uf058\\n\\nEasy-To-Use\\nDataDios-SmartDiff user-friendly graphical interface (GUI) guides us through every step involved in the process. It offers a wizard-like experience with built-in capacity analysis of the source and target Data Source to identify data issue patterns, simplifying large and complex validation.\\n\\n\\n\\n\\n\\n\\n\\n\\n\\uf058'),\n",
              " Document(metadata={'source': 'https://datadios.ai/datadiff/', 'title': 'datadiff | DataDios', 'language': 'en-US'}, page_content='\\uf058\\n\\nOptimization\\nDataDios SmartDiff gives a complete granular and programmatic control over every aspect of the migrated data for validation. Automated and programmatic approach allows us to fix the data issue during migration. Optimization can be achieved by reducing costs and project time while minimizing downtime during any migration project.\\n\\n\\n\\n\\n\\n\\n\\uf058\\n\\nMeeting Deadlines\\nDataDios SmartDiff helps us meet deadlines of migration projects as automation reduces time spent by employees and contractors. The need for multiple migration products or home-grown scripts consequently is done away with.\\n\\n\\n\\n\\n\\n \\n\\n\\n\\n\\n\\n\\n\\n\\n\\n\\n\\n\\nDataDios is a cloud-first product that centralizes all your data, metadata, performance metrics, and governance information in one place.\\n\\n\\n\\nPRODUCTS\\n\\nSmartDiffMeta VisionData Quality DashboardData ExplorerAI.StudioWorkload AnalyzerUniversal Semantic SearchMetadata Synchronization\\n\\n\\n\\nCOMPANY\\n\\nAbout UsPrivacy PolicyTerms & ConditionsFAQ’s\\n\\n\\n\\nCONTACT US\\n\\n\\n\\uf5a0'),\n",
              " Document(metadata={'source': 'https://datadios.ai/datadiff/', 'title': 'datadiff | DataDios', 'language': 'en-US'}, page_content='COMPANY\\n\\nAbout UsPrivacy PolicyTerms & ConditionsFAQ’s\\n\\n\\n\\nCONTACT US\\n\\n\\n\\uf5a0\\n\\n19663 Mountain House Pkwy, SUITE 305,Mountain House, CA 95391\\n\\n\\n\\n\\n\\ue090\\n\\n(425) 533-9681\\n\\n\\n\\n\\n}\\n\\nOffice Hours: 10AM – 8PM\\n\\n\\n\\n\\n\\n\\n\\n\\n\\n\\nCopyright © 2025 DataDios. All rights reserved.'),\n",
              " Document(metadata={'source': 'https://datadios.ai/data-quality-dashboard/', 'title': 'Data Quality Dashboard | DataDios', 'language': 'en-US'}, page_content='Data Quality Dashboard | DataDios\\n\\n\\n\\n\\n\\n\\n\\n\\n\\n\\n\\n\\n\\n\\n\\n\\n\\n\\n\\n\\n\\n\\n\\n\\n\\n\\n\\n\\n\\n\\n\\n\\n\\n\\n\\n\\n\\n\\n\\n\\n\\n\\n\\n\\n\\n\\n\\n\\nHomeProducts\\n\\nMeta VisionAI-StudioData ExplorerWorkload Analyzer\\r\\nData Quality DashboardUniversal Semantic SearchSmartDiffMetadata Synchronization\\nPricingAboutBlogsContact \\n\\n\\nSelect Page\\n\\n\\n  \\n \\n \\n\\n\\n\\n\\n\\n\\n\\n\\n\\n\\nData Quality Dashboard\\n\\n\\n\\n\\n\\nData quality refers to the overall utility, reliability, and accuracy of data for its intended use. High-quality data is essential for making informed decisions, improving business processes, and driving innovation. Poor data quality can lead to erroneous conclusions, missed opportunities, and operational inefficiencies.\\n\\n\\n\\n\\n\\n\\n\\n\\n\\n\\n\\n\\n\\n\\n\\n\\n\\n\\nHow It Works\\n\\n\\n\\n\\n\\nData Collection\\n\\nData is collected from various sources, such as databases, spreadsheets, and external data providers. The quality of the source data significantly impacts the final data quality.\\n\\nData Profiling'),\n",
              " Document(metadata={'source': 'https://datadios.ai/data-quality-dashboard/', 'title': 'Data Quality Dashboard | DataDios', 'language': 'en-US'}, page_content='Data is collected from various sources, such as databases, spreadsheets, and external data providers. The quality of the source data significantly impacts the final data quality.\\n\\nData Profiling\\n\\nThe collected data is examined to understand its structure, content, and relationships. This includes identifying missing data, duplicates, and outliers.\\n\\nData Cleansing\\n\\nErrors and inconsistencies in the data are corrected through processes such as filling missing values, removing duplicates, and standardizing formats.\\n\\nData Enrichment\\n\\nExternal data is added to enhance the completeness and accuracy of existing data. For example, adding geolocation data to customer records.\\n\\nData Validation\\n\\nThe data is checked against predefined rules or business logic to ensure accuracy and consistency. This might include ensuring that certain fields are mandatory or that numerical values fall within an expected range.\\n\\nData Governance'),\n",
              " Document(metadata={'source': 'https://datadios.ai/data-quality-dashboard/', 'title': 'Data Quality Dashboard | DataDios', 'language': 'en-US'}, page_content='Data Governance\\n\\nOngoing processes and policies ensure that data quality is maintained over time. This includes regular audits, data stewardship roles, and data management tools.\\n\\n\\n\\n\\n\\n\\n\\n\\n\\n\\n\\n\\n\\nBenefits\\n\\n\\n\\n\\n\\n\\n\\uf058\\n\\nBetter Decision-Making\\nHigh-quality data allows organizations to make informed, data-driven decisions, reducing the risk of mistakes.\\n\\n\\n\\n\\n\\n\\n\\uf058\\n\\nOperational Efficiency\\nClean, well-organized data reduces inefficiencies and errors, improving productivity and resource allocation.\\n\\n\\n\\n\\n\\n\\n\\n\\n\\uf058\\n\\nIncreased Revenue\\nAccurate data can reveal opportunities for new revenue streams, improved customer satisfaction, and better-targeted marketing.\\n\\n\\n\\n\\n\\n\\n\\uf058\\n\\nRegulatory Compliance\\nMany industries have strict regulations around data handling and reporting. High-quality data helps ensure compliance with these rules.\\n\\n\\n\\n\\n\\n\\n\\n\\n\\uf058'),\n",
              " Document(metadata={'source': 'https://datadios.ai/data-quality-dashboard/', 'title': 'Data Quality Dashboard | DataDios', 'language': 'en-US'}, page_content='\\uf058\\n\\nRegulatory Compliance\\nMany industries have strict regulations around data handling and reporting. High-quality data helps ensure compliance with these rules.\\n\\n\\n\\n\\n\\n\\n\\n\\n\\uf058\\n\\nEnhanced Analytics\\nWith reliable data, organizations can extract meaningful insights from analytics and machine learning models, leading to better innovation and competitive advantage.\\n\\n\\n\\n\\n\\n\\n\\n\\n\\n\\nFeatures\\n\\n\\n\\n\\n\\n\\n\\uf058\\n\\nAccuracy\\nData should reflect the real-world entities or events it describes. Any inaccuracies can lead to misinformed decisions.\\n\\n\\n\\n\\n\\n\\n\\uf058\\n\\nCompleteness\\nAll required data should be present without gaps. Missing data can distort analysis and conclusions.\\n\\n\\n\\n\\n\\n\\n\\n\\n\\uf058\\n\\nConsistency\\nData should be consistent across different systems and datasets. For example, customer information should be identical in both the sales and support databases.\\n\\n\\n\\n\\n\\n\\n\\uf058\\n\\nTimeliness\\nData should be up-to-date to be relevant for decision-making. Outdated information can lead to incorrect conclusions.\\n\\n\\n\\n\\n\\n\\n\\n\\n\\uf058'),\n",
              " Document(metadata={'source': 'https://datadios.ai/data-quality-dashboard/', 'title': 'Data Quality Dashboard | DataDios', 'language': 'en-US'}, page_content='\\uf058\\n\\nTimeliness\\nData should be up-to-date to be relevant for decision-making. Outdated information can lead to incorrect conclusions.\\n\\n\\n\\n\\n\\n\\n\\n\\n\\uf058\\n\\nUniqueness\\nData should not be duplicated unnecessarily. Duplicate records can cause confusion and errors.\\n\\n\\n\\n\\n\\n\\n\\uf058\\n\\nValidity\\nData should conform to defined formats and rules. For example, a date field should only contain valid dates, and an email field should only contain valid email addresses.\\n\\n\\n\\n\\n\\n\\n\\n\\n\\uf058\\n\\nAccessibility\\nData should be easily accessible to those who need it, while being protected from unauthorized access to ensure privacy and security.\\n\\n\\n\\n\\n\\n\\n\\n\\nBy focusing on data quality, organizations can ensure that their data remains a valuable and trustworthy asset that drives success.\\xa0\\n\\n\\n\\n \\n\\n\\n\\n\\n\\n\\n\\n\\n\\n\\n\\n\\nDataDios is a cloud-first product that centralizes all your data, metadata, performance metrics, and governance information in one place.\\n\\n\\n\\nPRODUCTS'),\n",
              " Document(metadata={'source': 'https://datadios.ai/data-quality-dashboard/', 'title': 'Data Quality Dashboard | DataDios', 'language': 'en-US'}, page_content='DataDios is a cloud-first product that centralizes all your data, metadata, performance metrics, and governance information in one place.\\n\\n\\n\\nPRODUCTS\\n\\nSmartDiffMeta VisionData Quality DashboardData ExplorerAI.StudioWorkload AnalyzerUniversal Semantic SearchMetadata Synchronization\\n\\n\\n\\nCOMPANY\\n\\nAbout UsPrivacy PolicyTerms & ConditionsFAQ’s\\n\\n\\n\\nCONTACT US\\n\\n\\n\\uf5a0\\n\\n19663 Mountain House Pkwy, SUITE 305,Mountain House, CA 95391\\n\\n\\n\\n\\n\\ue090\\n\\n(425) 533-9681\\n\\n\\n\\n\\n}\\n\\nOffice Hours: 10AM – 8PM\\n\\n\\n\\n\\n\\n\\n\\n\\n\\n\\nCopyright © 2025 DataDios. All rights reserved.')]"
            ]
          },
          "metadata": {},
          "execution_count": 13
        }
      ]
    },
    {
      "cell_type": "code",
      "source": [
        "#create the vector store and store  the data into it\n",
        "from langchain_openai import OpenAIEmbeddings\n",
        "from langchain.vectorstores import Chroma\n",
        "vector_store = Chroma.from_documents(documents=splits, embedding=OpenAIEmbeddings())\n",
        "vector_store"
      ],
      "metadata": {
        "colab": {
          "base_uri": "https://localhost:8080/"
        },
        "id": "WfF_jECYMl_G",
        "outputId": "43bbdef8-56aa-49d2-dc47-274b68fb72fe"
      },
      "execution_count": 14,
      "outputs": [
        {
          "output_type": "execute_result",
          "data": {
            "text/plain": [
              "<langchain_community.vectorstores.chroma.Chroma at 0x78c172d5cc50>"
            ]
          },
          "metadata": {},
          "execution_count": 14
        }
      ]
    },
    {
      "cell_type": "code",
      "source": [
        "vector_store._collection.count()\n",
        "vector_store._collection.get()"
      ],
      "metadata": {
        "colab": {
          "base_uri": "https://localhost:8080/"
        },
        "collapsed": true,
        "id": "0xiHNqcxQ62g",
        "outputId": "cd4c9aed-c266-4dfc-ff5e-bc46d30b4aa9"
      },
      "execution_count": 15,
      "outputs": [
        {
          "output_type": "execute_result",
          "data": {
            "text/plain": [
              "{'ids': ['460afab1-bb99-46ab-84d5-ef5de531a730',\n",
              "  'bc3b26ee-9618-462d-814b-478341f08dec',\n",
              "  '1e483893-d706-400e-bf21-fa451876ef4d',\n",
              "  '55cd72e4-6959-4ba7-9fa2-d2ba001b62a5',\n",
              "  '67cb5308-d0c9-447c-8a44-d852647396b6',\n",
              "  'e27c3447-e290-4e78-9f21-8cd0bf9544e0',\n",
              "  '21c4f2bd-b605-401d-83c8-98ec60c8f591',\n",
              "  '4abca3ec-579c-45f2-b4de-1770f5695a71',\n",
              "  'a65b0588-ba7f-41e6-ba6d-6e86cb712a42',\n",
              "  '5ad7a79c-91a3-4c63-adff-96da8ff52f51',\n",
              "  '33f9a5d1-241e-492b-9554-d14d291fcc6a',\n",
              "  '74b9f133-f32d-48c3-99ac-cda63c4f45e0',\n",
              "  '5191515f-6360-4166-8442-1c2f5187806f',\n",
              "  '9381d81a-c2e4-48b9-9fed-1280cc737ba0'],\n",
              " 'embeddings': None,\n",
              " 'documents': ['datadiff | DataDios\\n\\n\\n\\n\\n\\n\\n\\n\\n\\n\\n\\n\\n\\n\\n\\n\\n\\n\\n\\n\\n\\n\\n\\n\\n\\n\\n\\n\\n\\n\\n\\n\\n\\n\\n\\n\\n\\n\\n\\n\\n\\n\\n\\n\\n\\n\\n\\n\\nHomeProducts\\n\\nMeta VisionAI-StudioData ExplorerWorkload Analyzer\\r\\nData Quality DashboardUniversal Semantic SearchSmartDiffMetadata Synchronization\\nPricingAboutBlogsContact \\n\\n\\nSelect Page\\n\\n\\n  \\n \\n \\n\\n\\n\\n\\n\\n\\n\\n\\n\\n\\nSmartDiff\\n\\n\\n\\n\\n\\nDataDios SmartDiff ensures an easy, efficient, and secure way to validate migrated data across private and public cloud platforms. DataDios SmartDiff is built on Root Cause Analysis, Clustering and Data Transformation architecture enables automated Data Validation Post Migrations, Cause analysis and revealing the patterns\\n\\n\\n\\n\\n\\n\\n\\n\\n\\n\\n\\n\\n\\n\\n\\nSingle Dashboard\\n\\n\\n\\n\\n\\nWe provide a single dashboard to perform data diff, metadata diff and products diff irrespective of:',\n",
              "  'Single Dashboard\\n\\n\\n\\n\\n\\nWe provide a single dashboard to perform data diff, metadata diff and products diff irrespective of:\\n\\nSource being on cloud or on-premise\\nSQL or No-SQL databases\\nFile formats(xml, json, parquet, csv, datasets, hashed file and others)\\nServices and Products like IGC, IBM Knowledge Catalog, MDM, DataStage (Datasets/Hashed Files), Collibra and others\\nCloud storages like AWS S3, Google Big bucket, Microsoft Azure storage, IBM storage and others\\nIBM OEM Partners MongoDB, EDB, Singlestore, Datastax and Cloudera\\n\\nDataDios SmartDiff quickly and easily validates data and identifies issues and patterns for various data sources. With a low-cost, easy to use, and installed anywhere, you can complete your migration projects on time and\\xa0 under budget.\\n\\n\\n\\n\\n\\n\\n\\n\\n\\n\\n\\nBenefits\\n\\n\\n\\n\\n\\n\\n\\uf058\\n\\nEasy-to-use, wizard-like experience for post migration data validation with a simple and intuitive graphical user interface (GUI).\\n\\n\\n\\n\\n\\n\\n\\uf058',\n",
              "  'Benefits\\n\\n\\n\\n\\n\\n\\n\\uf058\\n\\nEasy-to-use, wizard-like experience for post migration data validation with a simple and intuitive graphical user interface (GUI).\\n\\n\\n\\n\\n\\n\\n\\uf058\\n\\nUnderstanding the data issues pattern using clustering mechanisms.\\n\\n\\n\\n\\n\\n\\n\\n\\n\\uf058\\n\\nVarious data sources and files for validation can be seamlessly connected\\n\\n\\n\\n\\n\\n\\n\\uf058\\n\\nStreamline data migration- Root cause Analysis, Clustering and Data Transformation architecture ensures one stop solution to find and fix the data problem.\\n\\n\\n\\n\\n\\n\\n\\n\\n\\uf058\\n\\nFocused validation using metadata filtering to speed up the entire data migration process.\\n\\n\\n\\n\\n\\n\\n\\uf058\\n\\nIncrease flexibility by performing Data Transformation rules on data and filtering on metadata.\\n\\n\\n\\n\\n\\n\\n\\n\\n\\uf058\\n\\nExperience the industry’s highest rate of successful data validator tool.\\n\\n\\n\\n\\n\\n\\n\\uf058\\n\\nRun multiple jobs simultaneously to expedite migration times.\\n\\n\\n\\n\\n\\n\\n\\n\\n\\uf058\\n\\nAccelerate large and complex migrated data validation using SmartDiff.\\n\\n\\n\\n\\n\\n\\n\\n\\n\\n\\nFeatures\\n\\n\\n\\n\\n\\n\\n\\uf058',\n",
              "  '\\uf058\\n\\nRun multiple jobs simultaneously to expedite migration times.\\n\\n\\n\\n\\n\\n\\n\\n\\n\\uf058\\n\\nAccelerate large and complex migrated data validation using SmartDiff.\\n\\n\\n\\n\\n\\n\\n\\n\\n\\n\\nFeatures\\n\\n\\n\\n\\n\\n\\n\\uf058\\n\\nValidate, Cause Analysis, Identify Pattern\\nDataDios SmartDiff helps address the significant concerns of Organizations and IT professionals like Data Mess, Data Automation and Data Validation and detect the cause or patterns of invalid data post migration.\\nEngaging expensive migration tools to migrate data between Data Sources doesn’t always tackle these concerns and often results in failed jobs, missed deadlines, and exceeded budgets.\\n\\n\\n\\n\\n\\n\\n\\uf058',\n",
              "  '\\uf058\\n\\nEnsure Flexible, Multi-Platform Data Validation\\nDataDios SmartDiff provides a balanced, multi-cloud strategy that encompasses a blend of private, public, and hybrid cloud environments to solve traditional problems. It provides an easy, efficient, and secure way to validate migrated data across private and public cloud platforms. Built on Root cause Analysis, Clustering and Data Transformation architecture, DataDios SmartDiff enables automated Data Validation Post Migrations, Cause analysis and revealing the patterns. DataDios SmartDiff allows application of data Transformation rule on data and eliminates the need to learn and pay for multiple standalone tools.\\n\\n\\n\\n\\n\\n\\n\\n\\n\\uf058',\n",
              "  '\\uf058\\n\\nCost Efficient\\nDataDios SmartDiff promptly validates data and identifies issue patterns for various data sources, which is low-cost, easy-to-use, and anywhere installed. DataDios SmartDiff completes migration projects within the budget. It automatically and simultaneously migrates data from one Data Source to another Data Source, avoiding installation of various expensive standalone tools.\\n\\n\\n\\n\\n\\n\\n\\uf058\\n\\nEasy-To-Use\\nDataDios-SmartDiff user-friendly graphical interface (GUI) guides us through every step involved in the process. It offers a wizard-like experience with built-in capacity analysis of the source and target Data Source to identify data issue patterns, simplifying large and complex validation.\\n\\n\\n\\n\\n\\n\\n\\n\\n\\uf058',\n",
              "  '\\uf058\\n\\nOptimization\\nDataDios SmartDiff gives a complete granular and programmatic control over every aspect of the migrated data for validation. Automated and programmatic approach allows us to fix the data issue during migration. Optimization can be achieved by reducing costs and project time while minimizing downtime during any migration project.\\n\\n\\n\\n\\n\\n\\n\\uf058\\n\\nMeeting Deadlines\\nDataDios SmartDiff helps us meet deadlines of migration projects as automation reduces time spent by employees and contractors. The need for multiple migration products or home-grown scripts consequently is done away with.\\n\\n\\n\\n\\n\\n \\n\\n\\n\\n\\n\\n\\n\\n\\n\\n\\n\\n\\nDataDios is a cloud-first product that centralizes all your data, metadata, performance metrics, and governance information in one place.\\n\\n\\n\\nPRODUCTS\\n\\nSmartDiffMeta VisionData Quality DashboardData ExplorerAI.StudioWorkload AnalyzerUniversal Semantic SearchMetadata Synchronization\\n\\n\\n\\nCOMPANY\\n\\nAbout UsPrivacy PolicyTerms & ConditionsFAQ’s\\n\\n\\n\\nCONTACT US\\n\\n\\n\\uf5a0',\n",
              "  'COMPANY\\n\\nAbout UsPrivacy PolicyTerms & ConditionsFAQ’s\\n\\n\\n\\nCONTACT US\\n\\n\\n\\uf5a0\\n\\n19663 Mountain House Pkwy, SUITE 305,Mountain House, CA 95391\\n\\n\\n\\n\\n\\ue090\\n\\n(425) 533-9681\\n\\n\\n\\n\\n}\\n\\nOffice Hours: 10AM – 8PM\\n\\n\\n\\n\\n\\n\\n\\n\\n\\n\\nCopyright © 2025 DataDios. All rights reserved.',\n",
              "  'Data Quality Dashboard | DataDios\\n\\n\\n\\n\\n\\n\\n\\n\\n\\n\\n\\n\\n\\n\\n\\n\\n\\n\\n\\n\\n\\n\\n\\n\\n\\n\\n\\n\\n\\n\\n\\n\\n\\n\\n\\n\\n\\n\\n\\n\\n\\n\\n\\n\\n\\n\\n\\n\\nHomeProducts\\n\\nMeta VisionAI-StudioData ExplorerWorkload Analyzer\\r\\nData Quality DashboardUniversal Semantic SearchSmartDiffMetadata Synchronization\\nPricingAboutBlogsContact \\n\\n\\nSelect Page\\n\\n\\n  \\n \\n \\n\\n\\n\\n\\n\\n\\n\\n\\n\\n\\nData Quality Dashboard\\n\\n\\n\\n\\n\\nData quality refers to the overall utility, reliability, and accuracy of data for its intended use. High-quality data is essential for making informed decisions, improving business processes, and driving innovation. Poor data quality can lead to erroneous conclusions, missed opportunities, and operational inefficiencies.\\n\\n\\n\\n\\n\\n\\n\\n\\n\\n\\n\\n\\n\\n\\n\\n\\n\\n\\nHow It Works\\n\\n\\n\\n\\n\\nData Collection\\n\\nData is collected from various sources, such as databases, spreadsheets, and external data providers. The quality of the source data significantly impacts the final data quality.\\n\\nData Profiling',\n",
              "  'Data is collected from various sources, such as databases, spreadsheets, and external data providers. The quality of the source data significantly impacts the final data quality.\\n\\nData Profiling\\n\\nThe collected data is examined to understand its structure, content, and relationships. This includes identifying missing data, duplicates, and outliers.\\n\\nData Cleansing\\n\\nErrors and inconsistencies in the data are corrected through processes such as filling missing values, removing duplicates, and standardizing formats.\\n\\nData Enrichment\\n\\nExternal data is added to enhance the completeness and accuracy of existing data. For example, adding geolocation data to customer records.\\n\\nData Validation\\n\\nThe data is checked against predefined rules or business logic to ensure accuracy and consistency. This might include ensuring that certain fields are mandatory or that numerical values fall within an expected range.\\n\\nData Governance',\n",
              "  'Data Governance\\n\\nOngoing processes and policies ensure that data quality is maintained over time. This includes regular audits, data stewardship roles, and data management tools.\\n\\n\\n\\n\\n\\n\\n\\n\\n\\n\\n\\n\\n\\nBenefits\\n\\n\\n\\n\\n\\n\\n\\uf058\\n\\nBetter Decision-Making\\nHigh-quality data allows organizations to make informed, data-driven decisions, reducing the risk of mistakes.\\n\\n\\n\\n\\n\\n\\n\\uf058\\n\\nOperational Efficiency\\nClean, well-organized data reduces inefficiencies and errors, improving productivity and resource allocation.\\n\\n\\n\\n\\n\\n\\n\\n\\n\\uf058\\n\\nIncreased Revenue\\nAccurate data can reveal opportunities for new revenue streams, improved customer satisfaction, and better-targeted marketing.\\n\\n\\n\\n\\n\\n\\n\\uf058\\n\\nRegulatory Compliance\\nMany industries have strict regulations around data handling and reporting. High-quality data helps ensure compliance with these rules.\\n\\n\\n\\n\\n\\n\\n\\n\\n\\uf058',\n",
              "  '\\uf058\\n\\nRegulatory Compliance\\nMany industries have strict regulations around data handling and reporting. High-quality data helps ensure compliance with these rules.\\n\\n\\n\\n\\n\\n\\n\\n\\n\\uf058\\n\\nEnhanced Analytics\\nWith reliable data, organizations can extract meaningful insights from analytics and machine learning models, leading to better innovation and competitive advantage.\\n\\n\\n\\n\\n\\n\\n\\n\\n\\n\\nFeatures\\n\\n\\n\\n\\n\\n\\n\\uf058\\n\\nAccuracy\\nData should reflect the real-world entities or events it describes. Any inaccuracies can lead to misinformed decisions.\\n\\n\\n\\n\\n\\n\\n\\uf058\\n\\nCompleteness\\nAll required data should be present without gaps. Missing data can distort analysis and conclusions.\\n\\n\\n\\n\\n\\n\\n\\n\\n\\uf058\\n\\nConsistency\\nData should be consistent across different systems and datasets. For example, customer information should be identical in both the sales and support databases.\\n\\n\\n\\n\\n\\n\\n\\uf058\\n\\nTimeliness\\nData should be up-to-date to be relevant for decision-making. Outdated information can lead to incorrect conclusions.\\n\\n\\n\\n\\n\\n\\n\\n\\n\\uf058',\n",
              "  '\\uf058\\n\\nTimeliness\\nData should be up-to-date to be relevant for decision-making. Outdated information can lead to incorrect conclusions.\\n\\n\\n\\n\\n\\n\\n\\n\\n\\uf058\\n\\nUniqueness\\nData should not be duplicated unnecessarily. Duplicate records can cause confusion and errors.\\n\\n\\n\\n\\n\\n\\n\\uf058\\n\\nValidity\\nData should conform to defined formats and rules. For example, a date field should only contain valid dates, and an email field should only contain valid email addresses.\\n\\n\\n\\n\\n\\n\\n\\n\\n\\uf058\\n\\nAccessibility\\nData should be easily accessible to those who need it, while being protected from unauthorized access to ensure privacy and security.\\n\\n\\n\\n\\n\\n\\n\\n\\nBy focusing on data quality, organizations can ensure that their data remains a valuable and trustworthy asset that drives success.\\xa0\\n\\n\\n\\n \\n\\n\\n\\n\\n\\n\\n\\n\\n\\n\\n\\n\\nDataDios is a cloud-first product that centralizes all your data, metadata, performance metrics, and governance information in one place.\\n\\n\\n\\nPRODUCTS',\n",
              "  'DataDios is a cloud-first product that centralizes all your data, metadata, performance metrics, and governance information in one place.\\n\\n\\n\\nPRODUCTS\\n\\nSmartDiffMeta VisionData Quality DashboardData ExplorerAI.StudioWorkload AnalyzerUniversal Semantic SearchMetadata Synchronization\\n\\n\\n\\nCOMPANY\\n\\nAbout UsPrivacy PolicyTerms & ConditionsFAQ’s\\n\\n\\n\\nCONTACT US\\n\\n\\n\\uf5a0\\n\\n19663 Mountain House Pkwy, SUITE 305,Mountain House, CA 95391\\n\\n\\n\\n\\n\\ue090\\n\\n(425) 533-9681\\n\\n\\n\\n\\n}\\n\\nOffice Hours: 10AM – 8PM\\n\\n\\n\\n\\n\\n\\n\\n\\n\\n\\nCopyright © 2025 DataDios. All rights reserved.'],\n",
              " 'uris': None,\n",
              " 'included': ['metadatas', 'documents'],\n",
              " 'data': None,\n",
              " 'metadatas': [{'title': 'datadiff | DataDios',\n",
              "   'source': 'https://datadios.ai/datadiff/',\n",
              "   'language': 'en-US'},\n",
              "  {'source': 'https://datadios.ai/datadiff/',\n",
              "   'language': 'en-US',\n",
              "   'title': 'datadiff | DataDios'},\n",
              "  {'title': 'datadiff | DataDios',\n",
              "   'language': 'en-US',\n",
              "   'source': 'https://datadios.ai/datadiff/'},\n",
              "  {'language': 'en-US',\n",
              "   'source': 'https://datadios.ai/datadiff/',\n",
              "   'title': 'datadiff | DataDios'},\n",
              "  {'title': 'datadiff | DataDios',\n",
              "   'source': 'https://datadios.ai/datadiff/',\n",
              "   'language': 'en-US'},\n",
              "  {'title': 'datadiff | DataDios',\n",
              "   'language': 'en-US',\n",
              "   'source': 'https://datadios.ai/datadiff/'},\n",
              "  {'source': 'https://datadios.ai/datadiff/',\n",
              "   'language': 'en-US',\n",
              "   'title': 'datadiff | DataDios'},\n",
              "  {'source': 'https://datadios.ai/datadiff/',\n",
              "   'language': 'en-US',\n",
              "   'title': 'datadiff | DataDios'},\n",
              "  {'language': 'en-US',\n",
              "   'title': 'Data Quality Dashboard | DataDios',\n",
              "   'source': 'https://datadios.ai/data-quality-dashboard/'},\n",
              "  {'source': 'https://datadios.ai/data-quality-dashboard/',\n",
              "   'language': 'en-US',\n",
              "   'title': 'Data Quality Dashboard | DataDios'},\n",
              "  {'language': 'en-US',\n",
              "   'title': 'Data Quality Dashboard | DataDios',\n",
              "   'source': 'https://datadios.ai/data-quality-dashboard/'},\n",
              "  {'source': 'https://datadios.ai/data-quality-dashboard/',\n",
              "   'title': 'Data Quality Dashboard | DataDios',\n",
              "   'language': 'en-US'},\n",
              "  {'language': 'en-US',\n",
              "   'title': 'Data Quality Dashboard | DataDios',\n",
              "   'source': 'https://datadios.ai/data-quality-dashboard/'},\n",
              "  {'source': 'https://datadios.ai/data-quality-dashboard/',\n",
              "   'title': 'Data Quality Dashboard | DataDios',\n",
              "   'language': 'en-US'}]}"
            ]
          },
          "metadata": {},
          "execution_count": 15
        }
      ]
    },
    {
      "cell_type": "code",
      "source": [
        "# Add retriver to retrive the data from the storage\n",
        "retriver = vector_store.as_retriever()\n"
      ],
      "metadata": {
        "id": "6V7C83c_Q7_0"
      },
      "execution_count": 16,
      "outputs": []
    },
    {
      "cell_type": "code",
      "source": [
        "# there are prompts on hub so we  are using it  from hub\n",
        "#i can use the my local also\n",
        "\n",
        "from langchain import hub\n",
        "prompt = hub.pull('rlm/rag-prompt')\n",
        "prompt"
      ],
      "metadata": {
        "colab": {
          "base_uri": "https://localhost:8080/"
        },
        "id": "kfJTaJHGSEN0",
        "outputId": "d39c49ca-d5a8-4d7f-ef71-8430ae9ad75f"
      },
      "execution_count": 17,
      "outputs": [
        {
          "output_type": "execute_result",
          "data": {
            "text/plain": [
              "ChatPromptTemplate(input_variables=['context', 'question'], input_types={}, partial_variables={}, metadata={'lc_hub_owner': 'rlm', 'lc_hub_repo': 'rag-prompt', 'lc_hub_commit_hash': '50442af133e61576e74536c6556cefe1fac147cad032f4377b60c436e6cdcb6e'}, messages=[HumanMessagePromptTemplate(prompt=PromptTemplate(input_variables=['context', 'question'], input_types={}, partial_variables={}, template=\"You are an assistant for question-answering tasks. Use the following pieces of retrieved context to answer the question. If you don't know the answer, just say that you don't know. Use three sentences maximum and keep the answer concise.\\nQuestion: {question} \\nContext: {context} \\nAnswer:\"), additional_kwargs={})])"
            ]
          },
          "metadata": {},
          "execution_count": 17
        }
      ]
    },
    {
      "cell_type": "code",
      "source": [
        "#create the chat Model\n",
        "from langchain_openai import ChatOpenAI\n",
        "llm = ChatOpenAI() #use the default name"
      ],
      "metadata": {
        "id": "B1aeYHrfSjV2"
      },
      "execution_count": 18,
      "outputs": []
    },
    {
      "cell_type": "code",
      "source": [
        "#whenever we want to pass anything here as it is then we use the runnable pass through from langchain\n",
        "from langchain_core.runnables import RunnablePassthrough\n",
        "from langchain_core.output_parsers import StrOutputParser"
      ],
      "metadata": {
        "id": "AxkF_XaPUAsK"
      },
      "execution_count": 19,
      "outputs": []
    },
    {
      "cell_type": "code",
      "source": [
        "def format_docs(docs):\n",
        "  return \"\\n\".join(doc.page_content for doc in docs)"
      ],
      "metadata": {
        "id": "al_qgXr7UrOe"
      },
      "execution_count": 20,
      "outputs": []
    },
    {
      "cell_type": "code",
      "source": [
        "rag_chain = ({\"context\":retriver | format_docs,\"question\":RunnablePassthrough()}\n",
        "              | prompt\n",
        "              | llm\n",
        "              | StrOutputParser()\n",
        "              )"
      ],
      "metadata": {
        "id": "6s8xj8fES8By"
      },
      "execution_count": 21,
      "outputs": []
    },
    {
      "cell_type": "code",
      "source": [
        "rag_chain.invoke(\"what is smartdiff and how it's helps for data validation\")"
      ],
      "metadata": {
        "colab": {
          "base_uri": "https://localhost:8080/",
          "height": 109
        },
        "id": "lEWSfVh5V9xv",
        "outputId": "eb8e3e3d-8fa4-49ed-a10a-a8ddc8016375"
      },
      "execution_count": 22,
      "outputs": [
        {
          "output_type": "execute_result",
          "data": {
            "text/plain": [
              "'SmartDiff is a tool that provides a balanced, multi-cloud strategy to validate migrated data across private and public cloud platforms. It is built on Root Cause Analysis, Clustering, and Data Transformation architecture for automated data validation post-migrations. SmartDiff helps in cost-efficient validation, easy-to-use graphical interface, optimization, and meeting project deadlines.'"
            ],
            "application/vnd.google.colaboratory.intrinsic+json": {
              "type": "string"
            }
          },
          "metadata": {},
          "execution_count": 22
        }
      ]
    }
  ]
}